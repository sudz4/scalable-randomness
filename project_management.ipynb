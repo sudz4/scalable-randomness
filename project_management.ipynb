{
 "cells": [
  {
   "attachments": {},
   "cell_type": "markdown",
   "metadata": {},
   "source": [
    "| Escalation of Commitment Theory | (aka. Scalable Randomness) |\n",
    "| ----------- | ----------- |\n",
    "#### This is a simulation model based on work from Nassim Taleb's \"Black Swan\"\n",
    "* A phenomenon that occurs when people invest resources, such as time or money, into a project and then continue to invest more resources even when the project is not succeeding.\n",
    "\n"
   ]
  },
  {
   "cell_type": "code",
   "execution_count": 1,
   "metadata": {},
   "outputs": [],
   "source": [
    "# libraries\n",
    "import random"
   ]
  },
  {
   "cell_type": "code",
   "execution_count": 7,
   "metadata": {},
   "outputs": [
    {
     "name": "stdout",
     "output_type": "stream",
     "text": [
      "The project was completed in 94.8 days and used 1200.0 resources.\n"
     ]
    }
   ],
   "source": [
    "# Define the initial time estimate and resource requirements\n",
    "initial_time_estimate = 79\n",
    "initial_resource_requirements = 1000\n",
    "\n",
    "# Define the escalation factor and escalation threshold\n",
    "escalation_factor = 1.2\n",
    "escalation_threshold = 2\n",
    "\n",
    "# Define the deadline for completing the project\n",
    "deadline = 600\n",
    "\n",
    "# Initialize variables\n",
    "actual_time_spent = 0\n",
    "actual_resources_used = 0\n",
    "completion_status = False\n",
    "iteration_number = 0\n",
    "\n",
    "# Simulate the project until it is completed or terminated\n",
    "while not completion_status and iteration_number < deadline:\n",
    "\n",
    "    # Increment the iteration number\n",
    "    iteration_number += 1\n",
    "\n",
    "    # Determine the estimated time and resource requirements for this iteration\n",
    "    estimated_time = initial_time_estimate * escalation_factor ** iteration_number\n",
    "    estimated_resources = initial_resource_requirements * escalation_factor ** iteration_number\n",
    "\n",
    "    # Check if the project has exceeded the escalation threshold\n",
    "    if actual_time_spent > escalation_threshold * initial_time_estimate:\n",
    "        decision = input(\"The project has exceeded the escalation threshold. Do you want to continue? (y/n)\")\n",
    "        if decision == \"n\":\n",
    "            completion_status = True\n",
    "            break\n",
    "\n",
    "    # Check if the project can be completed by the deadline\n",
    "    if actual_time_spent + estimated_time > deadline:\n",
    "        decision = input(\"The project cannot be completed by the deadline. Do you want to continue? (y/n)\")\n",
    "        if decision == \"n\":\n",
    "            completion_status = True\n",
    "            break\n",
    "\n",
    "    # Update the actual time spent and resources used\n",
    "    actual_time_spent += estimated_time\n",
    "    actual_resources_used += estimated_resources\n",
    "\n",
    "    # Check if the project has been completed\n",
    "    if actual_time_spent <= deadline:\n",
    "        completion_status = True\n",
    "\n",
    "# Display the results of the simulation\n",
    "if completion_status:\n",
    "    print(\"The project was completed in\", actual_time_spent, \"days and used\", actual_resources_used, \"resources.\")\n",
    "else:\n",
    "    print(\"The project was terminated after\", iteration_number, \"iterations.\")\n"
   ]
  },
  {
   "cell_type": "code",
   "execution_count": null,
   "metadata": {},
   "outputs": [],
   "source": []
  }
 ],
 "metadata": {
  "kernelspec": {
   "display_name": "ECT_venv",
   "language": "python",
   "name": "python3"
  },
  "language_info": {
   "codemirror_mode": {
    "name": "ipython",
    "version": 3
   },
   "file_extension": ".py",
   "mimetype": "text/x-python",
   "name": "python",
   "nbconvert_exporter": "python",
   "pygments_lexer": "ipython3",
   "version": "3.11.1"
  },
  "orig_nbformat": 4,
  "vscode": {
   "interpreter": {
    "hash": "9bcf44b6c54b064c900ec0b96a92db68a0fa8e9ab0ad4c5dd43f16b74f29215f"
   }
  }
 },
 "nbformat": 4,
 "nbformat_minor": 2
}
